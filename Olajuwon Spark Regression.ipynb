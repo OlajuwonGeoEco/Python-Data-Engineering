{
 "cells": [
  {
   "cell_type": "markdown",
   "metadata": {},
   "source": [
    "<center>\n",
    "    <img src=\"https://gitlab.com/ibm/skills-network/courses/placeholder101/-/raw/master/labs/module%201/images/IDSNlogo.png\" width=\"300\" alt=\"cognitiveclass.ai logo\"  />\n",
    "</center>\n"
   ]
  },
  {
   "cell_type": "markdown",
   "metadata": {},
   "source": [
    "# **Machine Learning with Apache Spark ML**\n"
   ]
  },
  {
   "cell_type": "markdown",
   "metadata": {},
   "source": [
    "Estimated time needed: **15** minutes\n"
   ]
  },
  {
   "cell_type": "markdown",
   "metadata": {},
   "source": [
    "This lab goes introduces Machine Learning using Spark ML Lib (sparkml).\n"
   ]
  },
  {
   "cell_type": "markdown",
   "metadata": {},
   "source": [
    "![](http://spark.apache.org/images/spark-logo.png)\n"
   ]
  },
  {
   "cell_type": "markdown",
   "metadata": {},
   "source": [
    "## Objectives\n"
   ]
  },
  {
   "cell_type": "markdown",
   "metadata": {},
   "source": [
    "Spark ML Library is also commonly called MLlib and is used to perform machine learning operations using DataFrame-based APIs.\n",
    "\n",
    "After completing this lab you will be able to:\n"
   ]
  },
  {
   "cell_type": "markdown",
   "metadata": {},
   "source": [
    "*   Import the Spark ML and Statistics Libraries\n",
    "*   Perform basic statistics operations using Spark\n",
    "*   Build a simple linear regression model using Spark ML\n",
    "*   Train the model and perform evaluation\n"
   ]
  },
  {
   "cell_type": "markdown",
   "metadata": {},
   "source": [
    "***\n"
   ]
  },
  {
   "cell_type": "markdown",
   "metadata": {},
   "source": [
    "## Setup\n"
   ]
  },
  {
   "cell_type": "markdown",
   "metadata": {},
   "source": [
    "For this lab, we are going to be using Python and Spark (pyspark). These libraries should be installed in your lab environment or in SN Labs.\n"
   ]
  },
  {
   "cell_type": "code",
   "execution_count": 1,
   "metadata": {},
   "outputs": [
    {
     "name": "stdout",
     "output_type": "stream",
     "text": [
      "Waiting for a Spark session to start...\n",
      "Spark Initialization Done! ApplicationId = app-20220120203252-0000\n",
      "KERNEL_ID = 8e78c925-1ae2-46dc-b2b2-17e4c5a62cd1\n"
     ]
    }
   ],
   "source": [
    "# Pandas is a popular data science package for Python. In this lab, we use Pandas to load a CSV file from disc to a pandas dataframe in memory.\n",
    "import pandas as pd\n",
    "import matplotlib.pyplot as plt\n",
    "# pyspark is the Spark API for Python. In this lab, we use pyspark to initialize the spark context. \n",
    "from pyspark import SparkContext, SparkConf\n",
    "from pyspark.sql import SparkSession"
   ]
  },
  {
   "cell_type": "markdown",
   "metadata": {},
   "source": [
    "## Exercise 1 -  Spark session\n"
   ]
  },
  {
   "cell_type": "markdown",
   "metadata": {},
   "source": [
    "In this exercise, you will create and initialize the Spark session needed to load the dataframes and operate on it\n"
   ]
  },
  {
   "cell_type": "markdown",
   "metadata": {},
   "source": [
    "#### Task 1: Creating the spark session and context\n"
   ]
  },
  {
   "cell_type": "code",
   "execution_count": 5,
   "metadata": {},
   "outputs": [
    {
     "ename": "ValueError",
     "evalue": "Cannot run multiple SparkContexts at once; existing SparkContext(app=python3.7, master=spark://jkg-deployment-8e78c925-1ae2-46dc-b2b2-17e4c5a62cd1-797589r8vpv:7077) created by getOrCreate at /opt/ibm/kernelScript/python/shell.py:69 ",
     "output_type": "error",
     "traceback": [
      "\u001b[0;31m---------------------------------------------------------------------------\u001b[0m",
      "\u001b[0;31mValueError\u001b[0m                                Traceback (most recent call last)",
      "\u001b[0;32m<ipython-input-5-9fe2b398bfc3>\u001b[0m in \u001b[0;36m<module>\u001b[0;34m()\u001b[0m\n\u001b[1;32m      1\u001b[0m \u001b[0;31m# Creating a spark context class\u001b[0m\u001b[0;34m\u001b[0m\u001b[0;34m\u001b[0m\u001b[0;34m\u001b[0m\u001b[0m\n\u001b[0;32m----> 2\u001b[0;31m \u001b[0msc\u001b[0m \u001b[0;34m=\u001b[0m \u001b[0mSparkContext\u001b[0m\u001b[0;34m(\u001b[0m\u001b[0;34m)\u001b[0m\u001b[0;34m\u001b[0m\u001b[0;34m\u001b[0m\u001b[0m\n\u001b[0m\u001b[1;32m      3\u001b[0m \u001b[0;34m\u001b[0m\u001b[0m\n\u001b[1;32m      4\u001b[0m \u001b[0;31m# Creating a spark session\u001b[0m\u001b[0;34m\u001b[0m\u001b[0;34m\u001b[0m\u001b[0;34m\u001b[0m\u001b[0m\n\u001b[1;32m      5\u001b[0m \u001b[0mspark\u001b[0m \u001b[0;34m=\u001b[0m \u001b[0mSparkSession\u001b[0m     \u001b[0;34m.\u001b[0m\u001b[0mbuilder\u001b[0m     \u001b[0;34m.\u001b[0m\u001b[0mappName\u001b[0m\u001b[0;34m(\u001b[0m\u001b[0;34m\"Python Spark DataFrames basic example\"\u001b[0m\u001b[0;34m)\u001b[0m     \u001b[0;34m.\u001b[0m\u001b[0mconfig\u001b[0m\u001b[0;34m(\u001b[0m\u001b[0;34m\"spark.some.config.option\"\u001b[0m\u001b[0;34m,\u001b[0m \u001b[0;34m\"some-value\"\u001b[0m\u001b[0;34m)\u001b[0m     \u001b[0;34m.\u001b[0m\u001b[0mgetOrCreate\u001b[0m\u001b[0;34m(\u001b[0m\u001b[0;34m)\u001b[0m\u001b[0;34m\u001b[0m\u001b[0;34m\u001b[0m\u001b[0m\n",
      "\u001b[0;32m/opt/ibm/conda/miniconda/lib/python/site-packages/pyspark/context.py\u001b[0m in \u001b[0;36m__init__\u001b[0;34m(self, master, appName, sparkHome, pyFiles, environment, batchSize, serializer, conf, gateway, jsc, profiler_cls)\u001b[0m\n\u001b[1;32m    131\u001b[0m                 \" is not allowed as it is a security risk.\")\n\u001b[1;32m    132\u001b[0m \u001b[0;34m\u001b[0m\u001b[0m\n\u001b[0;32m--> 133\u001b[0;31m         \u001b[0mSparkContext\u001b[0m\u001b[0;34m.\u001b[0m\u001b[0m_ensure_initialized\u001b[0m\u001b[0;34m(\u001b[0m\u001b[0mself\u001b[0m\u001b[0;34m,\u001b[0m \u001b[0mgateway\u001b[0m\u001b[0;34m=\u001b[0m\u001b[0mgateway\u001b[0m\u001b[0;34m,\u001b[0m \u001b[0mconf\u001b[0m\u001b[0;34m=\u001b[0m\u001b[0mconf\u001b[0m\u001b[0;34m)\u001b[0m\u001b[0;34m\u001b[0m\u001b[0;34m\u001b[0m\u001b[0m\n\u001b[0m\u001b[1;32m    134\u001b[0m         \u001b[0;32mtry\u001b[0m\u001b[0;34m:\u001b[0m\u001b[0;34m\u001b[0m\u001b[0;34m\u001b[0m\u001b[0m\n\u001b[1;32m    135\u001b[0m             self._do_init(master, appName, sparkHome, pyFiles, environment, batchSize, serializer,\n",
      "\u001b[0;32m/opt/ibm/conda/miniconda/lib/python/site-packages/pyspark/context.py\u001b[0m in \u001b[0;36m_ensure_initialized\u001b[0;34m(cls, instance, gateway, conf)\u001b[0m\n\u001b[1;32m    341\u001b[0m                         \u001b[0;34m\" created by %s at %s:%s \"\u001b[0m\u001b[0;34m\u001b[0m\u001b[0;34m\u001b[0m\u001b[0m\n\u001b[1;32m    342\u001b[0m                         % (currentAppName, currentMaster,\n\u001b[0;32m--> 343\u001b[0;31m                             callsite.function, callsite.file, callsite.linenum))\n\u001b[0m\u001b[1;32m    344\u001b[0m                 \u001b[0;32melse\u001b[0m\u001b[0;34m:\u001b[0m\u001b[0;34m\u001b[0m\u001b[0;34m\u001b[0m\u001b[0m\n\u001b[1;32m    345\u001b[0m                     \u001b[0mSparkContext\u001b[0m\u001b[0;34m.\u001b[0m\u001b[0m_active_spark_context\u001b[0m \u001b[0;34m=\u001b[0m \u001b[0minstance\u001b[0m\u001b[0;34m\u001b[0m\u001b[0;34m\u001b[0m\u001b[0m\n",
      "\u001b[0;31mValueError\u001b[0m: Cannot run multiple SparkContexts at once; existing SparkContext(app=python3.7, master=spark://jkg-deployment-8e78c925-1ae2-46dc-b2b2-17e4c5a62cd1-797589r8vpv:7077) created by getOrCreate at /opt/ibm/kernelScript/python/shell.py:69 "
     ]
    }
   ],
   "source": [
    "# Creating a spark context class\n",
    "sc = SparkContext()\n",
    "\n",
    "# Creating a spark session\n",
    "spark = SparkSession \\\n",
    "    .builder \\\n",
    "    .appName(\"Python Spark DataFrames basic example\") \\\n",
    "    .config(\"spark.some.config.option\", \"some-value\") \\\n",
    "    .getOrCreate()"
   ]
  },
  {
   "cell_type": "markdown",
   "metadata": {},
   "source": [
    "#### Task 2: Initialize Spark session\n",
    "\n",
    "To work with dataframes we just need to verify that the spark session instance has been created.\n",
    "Feel free to click on the \"Spark UI\" button to explore the Spark UI elements.\n"
   ]
  },
  {
   "cell_type": "code",
   "execution_count": 6,
   "metadata": {},
   "outputs": [
    {
     "data": {
      "text/html": [
       "\n",
       "            <div>\n",
       "                <p><b>SparkSession - hive</b></p>\n",
       "                \n",
       "        <div>\n",
       "            <p><b>SparkContext</b></p>\n",
       "\n",
       "            <p><a href=\"http://172.30.90.188:4040\">Spark UI</a></p>\n",
       "\n",
       "            <dl>\n",
       "              <dt>Version</dt>\n",
       "                <dd><code>v3.0.3</code></dd>\n",
       "              <dt>Master</dt>\n",
       "                <dd><code>spark://jkg-deployment-8e78c925-1ae2-46dc-b2b2-17e4c5a62cd1-797589r8vpv:7077</code></dd>\n",
       "              <dt>AppName</dt>\n",
       "                <dd><code>python3.7</code></dd>\n",
       "            </dl>\n",
       "        </div>\n",
       "        \n",
       "            </div>\n",
       "        "
      ],
      "text/plain": [
       "<pyspark.sql.session.SparkSession at 0x7f34ffe8a050>"
      ]
     },
     "execution_count": 6,
     "metadata": {},
     "output_type": "execute_result"
    }
   ],
   "source": [
    "spark"
   ]
  },
  {
   "cell_type": "markdown",
   "metadata": {},
   "source": [
    "#### Task 2: Importing Spark ML libraries\n",
    "\n",
    "In this exercise we will import 4 SparkML functions.\n",
    "\n",
    "1.  (Feature library) VectorAssembler(): This function is used to create feature vectors from dataframes/raw data. These feature vectors are required to train a ML model or perform any statistical operations.\n",
    "2.  (Stat library) Correlation(): This function is from the statistics library within SparkML. This function is used to calculate correlation between feature vectors.\n",
    "3.  (Feature library) Normalized(): This function is used to normalize features. Normalizing features leads to better ML model convergence and training results.\n",
    "4.  (Regression Library) LinearRegression(): This function is used to create a Linear Regression model and train it.\n"
   ]
  },
  {
   "cell_type": "code",
   "execution_count": 8,
   "metadata": {},
   "outputs": [],
   "source": [
    "from pyspark.ml.feature import VectorAssembler, Normalizer, StandardScaler\n",
    "from pyspark.ml.stat import Correlation\n",
    "from pyspark.ml.regression import LinearRegression"
   ]
  },
  {
   "cell_type": "markdown",
   "metadata": {},
   "source": [
    "## Exercise 2 - Loading the data and Creating Feature Vectors\n"
   ]
  },
  {
   "cell_type": "markdown",
   "metadata": {},
   "source": [
    "In this section, you will first read the CSV file into a pandas dataframe and then read it into a Spark dataframe\n",
    "\n",
    "Pandas is a library used for data manipulation and analysis. Pandas offers data structures and operations for creating and manipulating Data Series and DataFrame objects. Data can be imported from various data sources, e.g., Numpy arrays, Python dictionaries and CSV files. Pandas allows you to manipulate, organize and display the data.\n",
    "\n",
    "In this example we use a dataset that contains information about cars.\n"
   ]
  },
  {
   "cell_type": "markdown",
   "metadata": {},
   "source": [
    "#### Task 1: Loading data into a Pandas DataFrame\n"
   ]
  },
  {
   "cell_type": "code",
   "execution_count": 9,
   "metadata": {},
   "outputs": [],
   "source": [
    "# Read the file using `read_csv` function in pandas\n",
    "cars = pd.read_csv('https://cf-courses-data.s3.us.cloud-object-storage.appdomain.cloud/IBM-BD0225EN-SkillsNetwork/labs/data/cars.csv')"
   ]
  },
  {
   "cell_type": "code",
   "execution_count": 10,
   "metadata": {},
   "outputs": [
    {
     "data": {
      "text/html": [
       "<div>\n",
       "<style scoped>\n",
       "    .dataframe tbody tr th:only-of-type {\n",
       "        vertical-align: middle;\n",
       "    }\n",
       "\n",
       "    .dataframe tbody tr th {\n",
       "        vertical-align: top;\n",
       "    }\n",
       "\n",
       "    .dataframe thead th {\n",
       "        text-align: right;\n",
       "    }\n",
       "</style>\n",
       "<table border=\"1\" class=\"dataframe\">\n",
       "  <thead>\n",
       "    <tr style=\"text-align: right;\">\n",
       "      <th></th>\n",
       "      <th>mpg</th>\n",
       "      <th>cylinders</th>\n",
       "      <th>displacement</th>\n",
       "      <th>horsepower</th>\n",
       "      <th>weight</th>\n",
       "      <th>acceleration</th>\n",
       "      <th>model</th>\n",
       "      <th>origin</th>\n",
       "      <th>car_name</th>\n",
       "    </tr>\n",
       "  </thead>\n",
       "  <tbody>\n",
       "    <tr>\n",
       "      <th>0</th>\n",
       "      <td>18.0</td>\n",
       "      <td>8</td>\n",
       "      <td>307.0</td>\n",
       "      <td>130.0</td>\n",
       "      <td>3504.0</td>\n",
       "      <td>12.0</td>\n",
       "      <td>70</td>\n",
       "      <td>1</td>\n",
       "      <td>chevrolet chevelle malibu</td>\n",
       "    </tr>\n",
       "    <tr>\n",
       "      <th>1</th>\n",
       "      <td>15.0</td>\n",
       "      <td>8</td>\n",
       "      <td>350.0</td>\n",
       "      <td>165.0</td>\n",
       "      <td>3693.0</td>\n",
       "      <td>11.5</td>\n",
       "      <td>70</td>\n",
       "      <td>1</td>\n",
       "      <td>buick skylark 320</td>\n",
       "    </tr>\n",
       "    <tr>\n",
       "      <th>2</th>\n",
       "      <td>18.0</td>\n",
       "      <td>8</td>\n",
       "      <td>318.0</td>\n",
       "      <td>150.0</td>\n",
       "      <td>3436.0</td>\n",
       "      <td>11.0</td>\n",
       "      <td>70</td>\n",
       "      <td>1</td>\n",
       "      <td>plymouth satellite</td>\n",
       "    </tr>\n",
       "    <tr>\n",
       "      <th>3</th>\n",
       "      <td>16.0</td>\n",
       "      <td>8</td>\n",
       "      <td>304.0</td>\n",
       "      <td>150.0</td>\n",
       "      <td>3433.0</td>\n",
       "      <td>12.0</td>\n",
       "      <td>70</td>\n",
       "      <td>1</td>\n",
       "      <td>amc rebel sst</td>\n",
       "    </tr>\n",
       "    <tr>\n",
       "      <th>4</th>\n",
       "      <td>17.0</td>\n",
       "      <td>8</td>\n",
       "      <td>302.0</td>\n",
       "      <td>140.0</td>\n",
       "      <td>3449.0</td>\n",
       "      <td>10.5</td>\n",
       "      <td>70</td>\n",
       "      <td>1</td>\n",
       "      <td>ford torino</td>\n",
       "    </tr>\n",
       "  </tbody>\n",
       "</table>\n",
       "</div>"
      ],
      "text/plain": [
       "    mpg  cylinders  displacement horsepower  weight  acceleration  model  \\\n",
       "0  18.0          8         307.0      130.0  3504.0          12.0     70   \n",
       "1  15.0          8         350.0      165.0  3693.0          11.5     70   \n",
       "2  18.0          8         318.0      150.0  3436.0          11.0     70   \n",
       "3  16.0          8         304.0      150.0  3433.0          12.0     70   \n",
       "4  17.0          8         302.0      140.0  3449.0          10.5     70   \n",
       "\n",
       "   origin                   car_name  \n",
       "0       1  chevrolet chevelle malibu  \n",
       "1       1          buick skylark 320  \n",
       "2       1         plymouth satellite  \n",
       "3       1              amc rebel sst  \n",
       "4       1                ford torino  "
      ]
     },
     "execution_count": 10,
     "metadata": {},
     "output_type": "execute_result"
    }
   ],
   "source": [
    "# Preview a few records\n",
    "cars.head()"
   ]
  },
  {
   "cell_type": "markdown",
   "metadata": {},
   "source": [
    "For this example, we pre process the data and only use 3 columns. This preprocessed dataset can be found in the `cars2.csv` file.\n"
   ]
  },
  {
   "cell_type": "code",
   "execution_count": 11,
   "metadata": {},
   "outputs": [
    {
     "data": {
      "text/html": [
       "<div>\n",
       "<style scoped>\n",
       "    .dataframe tbody tr th:only-of-type {\n",
       "        vertical-align: middle;\n",
       "    }\n",
       "\n",
       "    .dataframe tbody tr th {\n",
       "        vertical-align: top;\n",
       "    }\n",
       "\n",
       "    .dataframe thead th {\n",
       "        text-align: right;\n",
       "    }\n",
       "</style>\n",
       "<table border=\"1\" class=\"dataframe\">\n",
       "  <thead>\n",
       "    <tr style=\"text-align: right;\">\n",
       "      <th></th>\n",
       "      <th>mpg</th>\n",
       "      <th>hp</th>\n",
       "      <th>weight</th>\n",
       "    </tr>\n",
       "  </thead>\n",
       "  <tbody>\n",
       "    <tr>\n",
       "      <th>0</th>\n",
       "      <td>18.0</td>\n",
       "      <td>130.0</td>\n",
       "      <td>3504.0</td>\n",
       "    </tr>\n",
       "    <tr>\n",
       "      <th>1</th>\n",
       "      <td>15.0</td>\n",
       "      <td>165.0</td>\n",
       "      <td>3693.0</td>\n",
       "    </tr>\n",
       "    <tr>\n",
       "      <th>2</th>\n",
       "      <td>18.0</td>\n",
       "      <td>150.0</td>\n",
       "      <td>3436.0</td>\n",
       "    </tr>\n",
       "    <tr>\n",
       "      <th>3</th>\n",
       "      <td>16.0</td>\n",
       "      <td>150.0</td>\n",
       "      <td>3433.0</td>\n",
       "    </tr>\n",
       "    <tr>\n",
       "      <th>4</th>\n",
       "      <td>17.0</td>\n",
       "      <td>140.0</td>\n",
       "      <td>3449.0</td>\n",
       "    </tr>\n",
       "  </tbody>\n",
       "</table>\n",
       "</div>"
      ],
      "text/plain": [
       "    mpg     hp  weight\n",
       "0  18.0  130.0  3504.0\n",
       "1  15.0  165.0  3693.0\n",
       "2  18.0  150.0  3436.0\n",
       "3  16.0  150.0  3433.0\n",
       "4  17.0  140.0  3449.0"
      ]
     },
     "execution_count": 11,
     "metadata": {},
     "output_type": "execute_result"
    }
   ],
   "source": [
    "cars2 = pd.read_csv('https://cf-courses-data.s3.us.cloud-object-storage.appdomain.cloud/IBM-BD0225EN-SkillsNetwork/labs/data/cars2.csv', header=None, names=[\"mpg\", \"hp\", \"weight\"])\n",
    "cars2.head()"
   ]
  },
  {
   "cell_type": "markdown",
   "metadata": {},
   "source": [
    "#### Task 2: Loading data into a Spark DataFrame\n"
   ]
  },
  {
   "cell_type": "code",
   "execution_count": 12,
   "metadata": {},
   "outputs": [],
   "source": [
    "# We use the `createDataFrame` function to load the data into a spark dataframe\n",
    "sdf = spark.createDataFrame(cars2)"
   ]
  },
  {
   "cell_type": "code",
   "execution_count": 13,
   "metadata": {},
   "outputs": [
    {
     "name": "stdout",
     "output_type": "stream",
     "text": [
      "root\n",
      " |-- mpg: double (nullable = true)\n",
      " |-- hp: double (nullable = true)\n",
      " |-- weight: double (nullable = true)\n",
      "\n"
     ]
    }
   ],
   "source": [
    "# Let us look at the schema of the loaded spark dataframe\n",
    "sdf.printSchema()"
   ]
  },
  {
   "cell_type": "markdown",
   "metadata": {},
   "source": [
    "#### Task 3: Converting data frame columns into feature vectors\n",
    "\n",
    "In this task we use the `VectorAssembler()` function to convert the dataframe columns into feature vectors.\n",
    "For our example, we use the horsepower (\"hp) and weight of the car as input features and the miles-per-gallon (\"mpg\") as target labels.\n"
   ]
  },
  {
   "cell_type": "code",
   "execution_count": 14,
   "metadata": {},
   "outputs": [],
   "source": [
    "assembler = VectorAssembler(\n",
    "    inputCols=[\"hp\", \"weight\"],\n",
    "    outputCol=\"features\")\n",
    "\n",
    "output = assembler.transform(sdf).select('features','mpg')"
   ]
  },
  {
   "cell_type": "markdown",
   "metadata": {},
   "source": [
    "We now create a test-train split of 75%-25%\n"
   ]
  },
  {
   "cell_type": "code",
   "execution_count": 15,
   "metadata": {},
   "outputs": [],
   "source": [
    "train, test = output.randomSplit([0.75, 0.25])"
   ]
  },
  {
   "cell_type": "markdown",
   "metadata": {},
   "source": [
    "## Exercise 3 - Basic stats and feature engineering\n"
   ]
  },
  {
   "cell_type": "markdown",
   "metadata": {},
   "source": [
    "In this exercise, we determine the correlation between feature vectors and normalize the features.\n"
   ]
  },
  {
   "cell_type": "markdown",
   "metadata": {},
   "source": [
    "#### Task 1: Correlation\n",
    "\n",
    "Spark ML has inbuilt Correlation function as part of the Stat library. We use the correlation function to determine the different types of correlation between the 2 features - \"hp\" and \"weight\".\n"
   ]
  },
  {
   "cell_type": "code",
   "execution_count": 16,
   "metadata": {},
   "outputs": [
    {
     "name": "stdout",
     "output_type": "stream",
     "text": [
      "Pearson correlation matrix:\n",
      "DenseMatrix([[1.        , 0.86611785],\n",
      "             [0.86611785, 1.        ]])\n"
     ]
    }
   ],
   "source": [
    "r1 = Correlation.corr(train, \"features\").head()\n",
    "print(\"Pearson correlation matrix:\\n\" + str(r1[0]))"
   ]
  },
  {
   "cell_type": "code",
   "execution_count": 17,
   "metadata": {},
   "outputs": [
    {
     "name": "stdout",
     "output_type": "stream",
     "text": [
      "Spearman correlation matrix:\n",
      "DenseMatrix([[1.       , 0.8821058],\n",
      "             [0.8821058, 1.       ]])\n"
     ]
    }
   ],
   "source": [
    "r2 = Correlation.corr(train, \"features\", \"spearman\").head()\n",
    "print(\"Spearman correlation matrix:\\n\" + str(r2[0]))"
   ]
  },
  {
   "cell_type": "markdown",
   "metadata": {},
   "source": [
    "We can see that there is a 0.86 (or 86%) correlation between the features. That is logical as a car with higher horsepower likely has a bigger engine and thus weighs more. We can also visualize the feature vectors to see that they are indeed correlated.\n"
   ]
  },
  {
   "cell_type": "code",
   "execution_count": 18,
   "metadata": {},
   "outputs": [
    {
     "data": {
      "image/png": "[encoded data removed]",
      "text/plain": [
       "<Figure size 432x288 with 1 Axes>"
      ]
     },
     "metadata": {
      "needs_background": "light"
     },
     "output_type": "display_data"
    }
   ],
   "source": [
    "plt.figure()\n",
    "plt.scatter(cars2[\"hp\"], cars2[\"weight\"])\n",
    "plt.xlabel(\"horsepower\")\n",
    "plt.ylabel(\"weight\")\n",
    "plt.title(\"Correlation between Horsepower and Weight\")\n",
    "plt.show()"
   ]
  },
  {
   "cell_type": "markdown",
   "metadata": {},
   "source": [
    "#### Task 2: Normalization\n",
    "\n",
    "In order for better model training and convergence, it is a good practice to normalize feature vectors.\n"
   ]
  },
  {
   "cell_type": "code",
   "execution_count": 19,
   "metadata": {},
   "outputs": [
    {
     "name": "stdout",
     "output_type": "stream",
     "text": [
      "Normalized using L^1 norm\n",
      "+-------------+----+-----------------------------------------+\n",
      "|features     |mpg |features_normalized                      |\n",
      "+-------------+----+-----------------------------------------+\n",
      "|[46.0,1835.0]|26.0|[0.024455077086656035,0.9755449229133439]|\n",
      "|[46.0,1950.0]|26.0|[0.023046092184368736,0.9769539078156313]|\n",
      "|[49.0,1867.0]|29.0|[0.0255741127348643,0.9744258872651357]  |\n",
      "|[52.0,2035.0]|29.0|[0.024916147580258743,0.9750838524197413]|\n",
      "|[53.0,1795.0]|33.0|[0.02867965367965368,0.9713203463203464] |\n",
      "+-------------+----+-----------------------------------------+\n",
      "only showing top 5 rows\n",
      "\n"
     ]
    }
   ],
   "source": [
    "normalizer = Normalizer(inputCol=\"features\", outputCol=\"features_normalized\", p=1.0)\n",
    "train_norm = normalizer.transform(train)\n",
    "print(\"Normalized using L^1 norm\")\n",
    "train_norm.show(5, truncate=False)"
   ]
  },
  {
   "cell_type": "markdown",
   "metadata": {},
   "source": [
    "#### Task 2: Standard Scaling\n",
    "\n",
    "This is a standard practice to scale the features such that all columns in the features have zero mean and unit variance.\n"
   ]
  },
  {
   "cell_type": "code",
   "execution_count": 20,
   "metadata": {},
   "outputs": [
    {
     "name": "stdout",
     "output_type": "stream",
     "text": [
      "+-------------+----+---------------------------------------+\n",
      "|features     |mpg |features_scaled                        |\n",
      "+-------------+----+---------------------------------------+\n",
      "|[46.0,1835.0]|26.0|[1.1691110855248021,2.1152009754348637]|\n",
      "|[46.0,1950.0]|26.0|[1.1691110855248021,2.24776125454931]  |\n",
      "|[49.0,1867.0]|29.0|[1.245357460667724,2.1520873139710575] |\n",
      "|[52.0,2035.0]|29.0|[1.3216038358106459,2.345740591286075] |\n",
      "|[53.0,1795.0]|33.0|[1.34701929419162,2.0690930522646216]  |\n",
      "+-------------+----+---------------------------------------+\n",
      "only showing top 5 rows\n",
      "\n"
     ]
    }
   ],
   "source": [
    "standard_scaler = StandardScaler(inputCol=\"features\", outputCol=\"features_scaled\")\n",
    "train_model = standard_scaler.fit(train)\n",
    "train_scaled = train_model.transform(train)\n",
    "train_scaled.show(5, truncate=False)"
   ]
  },
  {
   "cell_type": "code",
   "execution_count": 21,
   "metadata": {},
   "outputs": [
    {
     "name": "stdout",
     "output_type": "stream",
     "text": [
      "+-------------+----+---------------------------------------+\n",
      "|features     |mpg |features_scaled                        |\n",
      "+-------------+----+---------------------------------------+\n",
      "|[52.0,1649.0]|31.0|[1.3216038358106459,1.9007991326932372]|\n",
      "|[54.0,2254.0]|23.0|[1.3724347525725937,2.5981814706431514]|\n",
      "|[67.0,2000.0]|31.0|[1.7028357115252553,2.305396158512113] |\n",
      "|[70.0,1937.0]|29.0|[1.7790820866681771,2.2327761795189813]|\n",
      "|[72.0,2401.0]|21.0|[1.829913003430125,2.7676280882937916] |\n",
      "+-------------+----+---------------------------------------+\n",
      "only showing top 5 rows\n",
      "\n"
     ]
    }
   ],
   "source": [
    "test_scaled = train_model.transform(test)\n",
    "test_scaled.show(5, truncate=False)"
   ]
  },
  {
   "cell_type": "markdown",
   "metadata": {},
   "source": [
    "## Exercise 4 - Building and Training a Linear Regression Model\n"
   ]
  },
  {
   "cell_type": "markdown",
   "metadata": {},
   "source": [
    "In this exercise, we train a Linear Regression model `lrModel` on our training dataset. We train the model on the standard scaled version of features.\n",
    "We also print the final RMSE and R-Squared metrics.\n"
   ]
  },
  {
   "cell_type": "markdown",
   "metadata": {},
   "source": [
    "#### Task 1: Create and Train model\n",
    "\n",
    "We can create the model using the `LinearRegression()` class and train using the `fit()` function.\n"
   ]
  },
  {
   "cell_type": "code",
   "execution_count": 22,
   "metadata": {},
   "outputs": [
    {
     "name": "stdout",
     "output_type": "stream",
     "text": [
      "Coefficients: [-2.0057079640595386,-5.069303780720131]\n",
      "Intercept: 46.438431086267535\n",
      "RMSE: 4.265232\n",
      "R-squared: 0.721646\n"
     ]
    }
   ],
   "source": [
    "# Create a LR model\n",
    "lr = LinearRegression(featuresCol='features_scaled', labelCol='mpg', maxIter=100)\n",
    "\n",
    "# Fit the model\n",
    "lrModel = lr.fit(train_scaled)\n",
    "\n",
    "# Print the coefficients and intercept for linear regression\n",
    "print(\"Coefficients: %s\" % str(lrModel.coefficients))\n",
    "print(\"Intercept: %s\" % str(lrModel.intercept))\n",
    "\n",
    "# Summarize the model over the training set and print out some metrics\n",
    "trainingSummary = lrModel.summary\n",
    "#trainingSummary.residuals.show()\n",
    "print(\"RMSE: %f\" % trainingSummary.rootMeanSquaredError)\n",
    "print(\"R-squared: %f\" % trainingSummary.r2)"
   ]
  },
  {
   "cell_type": "markdown",
   "metadata": {},
   "source": [
    "We see a RMSE (Root mean squared error) of 4.26. This means that our model predicts the `mpg` with an average error of 4.2 units.\n"
   ]
  },
  {
   "cell_type": "markdown",
   "metadata": {},
   "source": [
    "#### Task 2: Predict on new data\n",
    "\n",
    "Once a model is trained, we can then `transform()` new unseen data (for eg. the test data) to generate predictions.\n",
    "In the below cell, notice the \"prediction\" column that contains the predicted \"mpg\".\n"
   ]
  },
  {
   "cell_type": "code",
   "execution_count": 23,
   "metadata": {},
   "outputs": [
    {
     "name": "stdout",
     "output_type": "stream",
     "text": [
      "+-------------+----+--------------------+------------------+\n",
      "|     features| mpg|     features_scaled|        prediction|\n",
      "+-------------+----+--------------------+------------------+\n",
      "|[52.0,1649.0]|31.0|[1.32160383581064...| 34.15195151769912|\n",
      "|[54.0,2254.0]|23.0|[1.37243475257259...|30.514756620752284|\n",
      "|[67.0,2000.0]|31.0|[1.70283571152525...|31.336286475773218|\n",
      "|[70.0,1937.0]|29.0|[1.77908208666817...| 31.55149124798409|\n",
      "|[72.0,2401.0]|21.0|[1.82991300343012...|28.738212470136677|\n",
      "+-------------+----+--------------------+------------------+\n",
      "only showing top 5 rows\n",
      "\n"
     ]
    }
   ],
   "source": [
    "lrModel.transform(test_scaled).show(5)"
   ]
  },
  {
   "cell_type": "markdown",
   "metadata": {},
   "source": [
    "### Question 1 - Correlation\n"
   ]
  },
  {
   "cell_type": "markdown",
   "metadata": {},
   "source": [
    "Print the correlation matrix for the test dataset split we created above.\n"
   ]
  },
  {
   "cell_type": "code",
   "execution_count": 24,
   "metadata": {},
   "outputs": [],
   "source": [
    "# Code block for learners to answer\n",
    "r1 = Correlation.corr(test, \"features\").head()\n",
    "print(\"Pearson correlation matrix:\\n\" + str(r1[0]))\n"
   ]
  },
  {
   "cell_type": "markdown",
   "metadata": {},
   "source": [
    "Double-click **here** for the solution.\n",
    "\n",
    "<!-- The answer is below:\n",
    "\n",
    "r1 = Correlation.corr(test, \"features\").head()\n",
    "print(\"Pearson correlation matrix:\\n\" + str(r1[0]))\n",
    "\n",
    "-->\n"
   ]
  },
  {
   "cell_type": "markdown",
   "metadata": {},
   "source": [
    "### Question 2 - Feature Normalization\n"
   ]
  },
  {
   "cell_type": "markdown",
   "metadata": {},
   "source": [
    "Normalize the training features by using the L2 norm of the feature vector.\n"
   ]
  },
  {
   "cell_type": "code",
   "execution_count": 31,
   "metadata": {},
   "outputs": [
    {
     "name": "stdout",
     "output_type": "stream",
     "text": [
      "Normalized using L^1 norm\n",
      "DataFrame[features: vector, mpg: double, features_normalized: vector]\n",
      "+-------------+----+-----------------------------------------+\n",
      "|features     |mpg |features_normalized                      |\n",
      "+-------------+----+-----------------------------------------+\n",
      "|[46.0,1835.0]|26.0|[0.025060247064771873,0.9996859426925301]|\n",
      "|[46.0,1950.0]|26.0|[0.023583182764714966,0.9997218780694388]|\n",
      "|[49.0,1867.0]|29.0|[0.02623627890186543,0.9996557695874032] |\n",
      "|[52.0,2035.0]|29.0|[0.025544487316886973,0.9996736863435576]|\n",
      "|[53.0,1795.0]|33.0|[0.029513600043251785,0.9995643788233387]|\n",
      "+-------------+----+-----------------------------------------+\n",
      "only showing top 5 rows\n",
      "\n"
     ]
    }
   ],
   "source": [
    "# Code block for learners to answer\n",
    "normalizer_l2 = Normalizer(inputCol=\"features\", outputCol=\"features_normalized\", p=2.0)\n",
    "train_norm_l2 = normalizer_l2.transform(train)\n",
    "print(\"Normalized using L^1 norm\\n\"+str(train_norm_l2))\n",
    "train_norm_l2.show(5, truncate=False)"
   ]
  },
  {
   "cell_type": "markdown",
   "metadata": {},
   "source": [
    "Double-click **here** for the solution.\n",
    "\n",
    "<!-- The answer is below:\n",
    "\n",
    "normalizer_l2 = Normalizer(inputCol=\"features\", outputCol=\"features_normalized\", p=2.0)\n",
    "train_norm_l2 = normalizer_l2.transform(train)\n",
    "rint(\"Normalized using L^1 norm\\n\"+str(train_norm_l2))\n",
    "train_norm_l2.show(5, truncate=False)\n",
    "\n",
    "-->\n"
   ]
  },
  {
   "cell_type": "markdown",
   "metadata": {},
   "source": [
    "### Question 3 - Train Model\n"
   ]
  },
  {
   "cell_type": "markdown",
   "metadata": {},
   "source": [
    "Repeat the model training shown above for another 100 iterations and report the coefficients.\n"
   ]
  },
  {
   "cell_type": "code",
   "execution_count": 35,
   "metadata": {},
   "outputs": [
    {
     "name": "stdout",
     "output_type": "stream",
     "text": [
      "Normalized using L^1 norm\n",
      "DataFrame[features: vector, mpg: double, features_normalized: vector]\n",
      "+--------------+----+-----------------------------------------+\n",
      "|features      |mpg |features_normalized                      |\n",
      "+--------------+----+-----------------------------------------+\n",
      "|[46.0,1835.0] |26.0|[0.025060247064771873,0.9996859426925301]|\n",
      "|[46.0,1950.0] |26.0|[0.023583182764714966,0.9997218780694388]|\n",
      "|[49.0,1867.0] |29.0|[0.02623627890186543,0.9996557695874032] |\n",
      "|[52.0,2035.0] |29.0|[0.025544487316886973,0.9996736863435576]|\n",
      "|[53.0,1795.0] |33.0|[0.029513600043251785,0.9995643788233387]|\n",
      "|[60.0,1834.0] |27.0|[0.032697882702442616,0.9994652812713293]|\n",
      "|[60.0,2164.0] |24.5|[0.027715781255455544,0.9996158439467633]|\n",
      "|[61.0,2003.0] |32.0|[0.03044020567321263,0.9995365895646704] |\n",
      "|[65.0,1773.0] |31.0|[0.03663641453982059,0.9993286612169524] |\n",
      "|[65.0,1836.0] |32.0|[0.0353808842774419,0.9993739005135897]  |\n",
      "|[67.0,1950.0] |31.0|[0.03433871124160268,0.9994102525541079] |\n",
      "|[67.0,1963.0] |26.0|[0.03411156805142606,0.999418031118647]  |\n",
      "|[69.0,1613.0] |35.0|[0.042738347587406356,0.9990862993983542]|\n",
      "|[69.0,2189.0] |26.0|[0.03150559466050269,0.9995035755339187] |\n",
      "|[70.0,1937.0] |29.0|[0.036114783371234756,0.9993476484297388]|\n",
      "|[70.0,1955.0] |26.0|[0.035782696469557444,0.9993595942569259]|\n",
      "|[70.0,2074.0] |30.0|[0.03373199806927058,0.999430914223817]  |\n",
      "|[71.0,2223.0] |25.0|[0.03192254365577911,0.9994903457295347] |\n",
      "|[72.0,3158.0] |15.0|[0.022793316751022818,0.999740198607362] |\n",
      "|[72.0,3432.0] |15.0|[0.020974405866128618,0.9997800129521308]|\n",
      "|[75.0,2171.0] |29.0|[0.034525695892695774,0.9994038104405671]|\n",
      "|[75.0,2246.0] |26.0|[0.03337409604940268,0.999442929692779]  |\n",
      "|[75.0,2542.0] |25.0|[0.029491493842346193,0.9995650312965869]|\n",
      "|[76.0,2065.0] |30.0|[0.036778973499011755,0.9993234246770957]|\n",
      "|[76.0,2511.0] |22.0|[0.03025297205512349,0.999542274084409]  |\n",
      "|[79.0,2255.0] |26.0|[0.035011780520463116,0.9993868996663838]|\n",
      "|[80.0,2164.0] |28.0|[0.03694334054702977,0.9993173617971551] |\n",
      "|[80.0,2451.0] |26.0|[0.03262236634716839,0.9994677489613716] |\n",
      "|[81.0,2220.0] |25.0|[0.03646222414105619,0.9993350320141327] |\n",
      "|[81.0,3012.0] |24.0|[0.02688271120968744,0.9996385946120812] |\n",
      "|[83.0,2202.0] |27.0|[0.037666258447035146,0.9992903747032698]|\n",
      "|[85.0,2310.0] |19.0|[0.03677165108320245,0.9993236941435019] |\n",
      "|[86.0,2226.0] |21.0|[0.03860552088737245,0.9992545290150125] |\n",
      "|[86.0,2395.0] |22.0|[0.03588501444216199,0.999355925453232]  |\n",
      "|[86.0,2464.0] |28.0|[0.03488135778571941,0.9993914602792164] |\n",
      "|[87.0,2979.0] |21.0|[0.029191984766144857,0.9995738231993739]|\n",
      "|[88.0,2100.0] |27.0|[0.041868017719032584,0.9991231501132776]|\n",
      "|[88.0,2130.0] |27.0|[0.04127933931642943,0.9991476448181215] |\n",
      "|[88.0,2130.0] |27.0|[0.04127933931642943,0.9991476448181215] |\n",
      "|[88.0,2957.0] |23.0|[0.029746722088059865,0.9995574683453752]|\n",
      "|[88.0,3139.0] |18.0|[0.028023395840095194,0.9996072675233956]|\n",
      "|[88.0,3302.0] |19.0|[0.026641055614704492,0.9996450640881163]|\n",
      "|[90.0,2123.0] |28.0|[0.04235479837983588,0.9991026328932395] |\n",
      "|[90.0,2124.0] |18.0|[0.04233489307360438,0.9991034765370633] |\n",
      "|[90.0,2264.0] |28.0|[0.03972127733126223,0.9992107986441965] |\n",
      "|[90.0,2430.0] |24.0|[0.03701166050988026,0.999314833766767]  |\n",
      "|[90.0,2648.0] |21.0|[0.03396830134676052,0.9994229107357985] |\n",
      "|[90.0,3211.0] |19.0|[0.0280176482644987,0.9996074286367258]  |\n",
      "|[91.0,2582.0] |20.0|[0.03522212829528047,0.9993795083342218] |\n",
      "|[92.0,2288.0] |28.0|[0.04017732343253103,0.9991925653655545] |\n",
      "|[92.0,2572.0] |25.0|[0.035746967460482795,0.9993608729169755]|\n",
      "|[93.0,2391.0] |26.0|[0.03886647027847004,0.9992444132884071] |\n",
      "|[94.0,2379.0] |22.0|[0.039481592269449646,0.9992202979683055]|\n",
      "|[95.0,2228.0] |25.0|[0.04260042998839467,0.9990921896225612] |\n",
      "|[95.0,2372.0] |24.0|[0.04001850724093665,0.9991989386894919] |\n",
      "|[95.0,3264.0] |19.0|[0.029093072047836326,0.9995767069909238]|\n",
      "|[95.0,3785.0] |18.0|[0.025091173278843602,0.9996851669518214]|\n",
      "|[96.0,2702.0] |24.0|[0.03550683405692766,0.9993694335606097] |\n",
      "|[97.0,2330.0] |19.0|[0.04159487219078131,0.9991345588094892] |\n",
      "|[97.0,2489.0] |24.0|[0.03894191368902351,0.9992414759997889] |\n",
      "|[97.0,2506.0] |23.0|[0.03867813923333982,0.9992517208118514] |\n",
      "|[97.0,2545.0] |24.0|[0.0380862954901424,0.9992744538393031]  |\n",
      "|[98.0,2945.0] |22.0|[0.033258331168384205,0.9994467886825661]|\n",
      "|[100.0,2634.0]|19.0|[0.037937741259282474,0.9992801047695005]|\n",
      "|[100.0,2789.0]|18.0|[0.0358321198779896,0.99935782339713]    |\n",
      "|[100.0,2914.0]|20.0|[0.03429690076333746,0.9994116882436537] |\n",
      "|[100.0,2945.0]|18.0|[0.03393629874107582,0.999423997924683]  |\n",
      "|[100.0,3282.0]|19.0|[0.030455092507170146,0.9995361360853242]|\n",
      "|[100.0,3288.0]|18.0|[0.03039956892646834,0.999537826302279]  |\n",
      "|[100.0,3336.0]|15.0|[0.02996256060222775,0.9995510216903177] |\n",
      "|[105.0,3121.0]|18.0|[0.033624039721764615,0.9994345521107368]|\n",
      "|[105.0,3353.0]|22.0|[0.03129989681206139,0.9995100381984937] |\n",
      "|[105.0,3459.0]|18.0|[0.030341617995797116,0.9995395871186878]|\n",
      "|[105.0,3897.0]|16.0|[0.026934028070869143,0.999637213258829] |\n",
      "|[107.0,2472.0]|21.0|[0.04324429792637156,0.9990645277943037] |\n",
      "|[110.0,3039.0]|21.0|[0.03617242908515473,0.9993455635435019] |\n",
      "|[110.0,3221.0]|20.0|[0.03413098742411209,0.999417368118773]  |\n",
      "|[110.0,3632.0]|16.0|[0.030272462895516522,0.9995416839683274]|\n",
      "|[110.0,3730.0]|15.0|[0.02947780103806078,0.9995654351996974] |\n",
      "|[110.0,3907.0]|17.0|[0.0281434421390048,0.9996038948826522]  |\n",
      "|[112.0,2868.0]|19.0|[0.03902186053028305,0.9992383571504624] |\n",
      "|[112.0,2933.0]|18.0|[0.038158346733385876,0.9992717050805425]|\n",
      "|[115.0,2671.0]|25.0|[0.04301518462690309,0.9990744185952883] |\n",
      "|[122.0,2807.0]|20.0|[0.04342177885024436,0.9990568297757043] |\n",
      "|[130.0,3504.0]|18.0|[0.037074949601463854,0.9993124877194565]|\n",
      "|[130.0,4098.0]|13.0|[0.03170684175703549,0.9994972116948573] |\n",
      "|[137.0,4042.0]|14.0|[0.03387465962326079,0.9994260890308038] |\n",
      "|[140.0,3449.0]|17.0|[0.04055807642174735,0.9991771827043329] |\n",
      "|[140.0,4141.0]|16.0|[0.033788954029785566,0.9994289902667288]|\n",
      "|[140.0,4215.0]|17.5|[0.03319640300216063,0.9994488475293362] |\n",
      "|[140.0,4294.0]|13.0|[0.032586317999230514,0.9994689249192559]|\n",
      "|[140.0,4638.0]|14.0|[0.030171682268726838,0.999544731159679] |\n",
      "|[145.0,4082.0]|15.0|[0.03549941354503493,0.9993696971781557] |\n",
      "|[145.0,4440.0]|15.0|[0.03264025651042124,0.9994671648708296] |\n",
      "|[148.0,4657.0]|14.0|[0.03176407952721533,0.9994953943124445] |\n",
      "|[150.0,3399.0]|15.0|[0.04408771685315909,0.999027663892585]  |\n",
      "|[150.0,3436.0]|18.0|[0.04361387350002204,0.9990484623071716] |\n",
      "|[150.0,3672.0]|17.0|[0.0408156329597351,0.9991666948543152]  |\n",
      "|[150.0,3761.0]|15.0|[0.0398513275854283,0.9992056203253057]  |\n",
      "|[150.0,4096.0]|14.0|[0.0365965620649614,0.9993301214538793]  |\n",
      "+--------------+----+-----------------------------------------+\n",
      "only showing top 100 rows\n",
      "\n"
     ]
    }
   ],
   "source": [
    "# Code block for Question 3\n",
    "normalizer_l2 = Normalizer(inputCol=\"features\", outputCol=\"features_normalized\", p=2.0)\n",
    "train_norm_l2 = normalizer_l2.transform(train)\n",
    "print(\"Normalized using L^1 norm\\n\"+str(train_norm_l2))\n",
    "train_norm_l2.show(100, truncate=False)"
   ]
  },
  {
   "cell_type": "markdown",
   "metadata": {},
   "source": [
    "## Authors\n"
   ]
  },
  {
   "cell_type": "markdown",
   "metadata": {},
   "source": [
    "[Karthik Muthuraman](https://www.linkedin.com/in/karthik-muthuraman/?utm_medium=Exinfluencer&utm_source=Exinfluencer&utm_content=000026UJ&utm_term=10006555&utm_id=NA-SkillsNetwork-Channel-SkillsNetworkCoursesIBMBD0231ENSkillsNetwork26766988-2021-01-01)\n"
   ]
  },
  {
   "cell_type": "markdown",
   "metadata": {},
   "source": [
    "### Other Contributors\n"
   ]
  },
  {
   "cell_type": "markdown",
   "metadata": {},
   "source": [
    "[Jerome Nilmeier](https://github.com/nilmeier/)\n"
   ]
  },
  {
   "cell_type": "markdown",
   "metadata": {},
   "source": [
    "## Change Log\n"
   ]
  },
  {
   "cell_type": "markdown",
   "metadata": {},
   "source": [
    "| Date (YYYY-MM-DD) | Version | Changed By    | Change Description      |\n",
    "| ----------------- | ------- | ------------- | ----------------------- |\n",
    "| 2021-12-22        | 0.3     | Lakshmi Holla | Made changes in scaling |\n",
    "| 2021-08-05        | 0.2     | Azim          | Beta launch             |\n",
    "| 2021-07-01        | 0.1     | Karthik       | Initial Draft           |\n"
   ]
  },
  {
   "cell_type": "markdown",
   "metadata": {},
   "source": [
    "Copyright © 2021 IBM Corporation. All rights reserved.\n"
   ]
  }
 ],
 "metadata": {
  "kernelspec": {
   "display_name": "Python 3.7 with Spark",
   "language": "python3",
   "name": "python37"
  },
  "language_info": {
   "codemirror_mode": {
    "name": "ipython",
    "version": 3
   },
   "file_extension": ".py",
   "mimetype": "text/x-python",
   "name": "python",
   "nbconvert_exporter": "python",
   "pygments_lexer": "ipython3",
   "version": "3.7.11"
  }
 },
 "nbformat": 4,
 "nbformat_minor": 4
}
